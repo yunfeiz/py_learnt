{
 "cells": [
  {
   "cell_type": "code",
   "execution_count": null,
   "metadata": {
    "scrolled": true
   },
   "outputs": [],
   "source": [
    "import tushare as ts\n",
    "import pandas as pd\n",
    "from IPython.display import HTML\n",
    "stock_selected='600487'"
   ]
  },
  {
   "cell_type": "markdown",
   "metadata": {},
   "source": [
    "1、线图效果（关系图改造）\n",
    "======"
   ]
  },
  {
   "cell_type": "code",
   "execution_count": null,
   "metadata": {
    "collapsed": true,
    "scrolled": true
   },
   "outputs": [],
   "source": [
    "#历年前十大股东持股情况\n",
    "#df1为季度统计摘要，data1为前十大持股明细统计\n",
    "df1, data1 = ts.top10_holders(code=stock_selected, gdtype='0') #gdtype等于1时表示流通股，默认为0 \n",
    "#df1, data1 = ts.top10_holders(code='002281', year=2015, quarter=1, gdtype='1')"
   ]
  },
  {
   "cell_type": "code",
   "execution_count": null,
   "metadata": {
    "scrolled": true
   },
   "outputs": [],
   "source": [
    "df1 = df1.sort_values('quarter', ascending=True)"
   ]
  },
  {
   "cell_type": "code",
   "execution_count": null,
   "metadata": {
    "scrolled": true
   },
   "outputs": [],
   "source": [
    "df1.tail(10)"
   ]
  },
  {
   "cell_type": "code",
   "execution_count": null,
   "metadata": {
    "scrolled": true
   },
   "outputs": [],
   "source": [
    "qts = list(df1['quarter'])\n",
    "data = list(df1['props'])\n",
    "name = ts.get_realtime_quotes(stock_selected)['name'][0]"
   ]
  },
  {
   "cell_type": "code",
   "execution_count": null,
   "metadata": {
    "scrolled": true
   },
   "outputs": [],
   "source": [
    "lgdstr = \"\"\"\n",
    "var axisData = \"\"\" + str(qts) + \"\"\";\n",
    "var data = \"\"\" + str(data) + \"\"\";\n",
    "var links = data.map(function (item, i) {\n",
    "    return {\n",
    "        source: i,\n",
    "        target: i + 1\n",
    "    };\n",
    "});\n",
    "links.pop();\n",
    "option = {\n",
    "    title: {\n",
    "        text: 'stockname:前十大流通股东持股占比'\n",
    "    },\n",
    "    tooltip: {\n",
    "        trigger: 'item'\n",
    "    },\n",
    "    xAxis: {\n",
    "        type : 'category',\n",
    "        boundaryGap : false,\n",
    "        data : axisData\n",
    "    },\n",
    "    yAxis: {\n",
    "        type : 'value'\n",
    "    },\n",
    "    series: [\n",
    "        {\n",
    "            type: 'line',\n",
    "            layout: 'none',\n",
    "            coordinateSystem: 'cartesian2d',\n",
    "            symbolSize: 10,\n",
    "            label: {\n",
    "                normal: {\n",
    "                    show: true\n",
    "                }\n",
    "            },\n",
    "            edgeSymbol: ['circle', 'arrow'],\n",
    "            edgeSymbolSize: [2, 5],\n",
    "            data: data,\n",
    "            links: links,\n",
    "            lineStyle: {\n",
    "                normal: {\n",
    "                    color: '#2f4554'\n",
    "                }\n",
    "            }\n",
    "        }\n",
    "    ]\n",
    "};\n",
    "\"\"\"\n",
    "lgdstr=lgdstr.replace('stockname',name)"
   ]
  },
  {
   "cell_type": "code",
   "execution_count": null,
   "metadata": {
    "scrolled": true
   },
   "outputs": [],
   "source": [
    "headstr = \"\"\"\n",
    "<div id=\"showhere\" style=\"width:800px; height:600px;\"></div> \n",
    "<script> \n",
    "require.config({ paths:{ echarts: '//cdn.bootcss.com/echarts/3.2.3/echarts.min', } });\n",
    "require(['echarts'],function(ec){\n",
    "var myChart = ec.init(document.getElementById('showhere'));\n",
    "\"\"\"\n",
    "\n",
    "tailstr = \"\"\"\n",
    "myChart.setOption(option);\n",
    "    });\n",
    "</script>\n",
    "\"\"\""
   ]
  },
  {
   "cell_type": "code",
   "execution_count": null,
   "metadata": {
    "scrolled": true
   },
   "outputs": [],
   "source": [
    "HTML(headstr + lgdstr+tailstr)"
   ]
  },
  {
   "cell_type": "markdown",
   "metadata": {},
   "source": [
    "2、饼图效果\n",
    "======"
   ]
  },
  {
   "cell_type": "code",
   "execution_count": null,
   "metadata": {
    "scrolled": true
   },
   "outputs": [],
   "source": [
    "#浦发银行2016三季度前十大流通股东情况\n",
    "df2, data2 = ts.top10_holders(code=stock_selected, year=2016, quarter=3, gdtype='1')"
   ]
  },
  {
   "cell_type": "code",
   "execution_count": null,
   "metadata": {
    "scrolled": true
   },
   "outputs": [],
   "source": [
    "data2"
   ]
  },
  {
   "cell_type": "code",
   "execution_count": null,
   "metadata": {
    "scrolled": true
   },
   "outputs": [],
   "source": [
    "#取前十大流通股东名称\n",
    "top10name = str(list(data2['name']))"
   ]
  },
  {
   "cell_type": "code",
   "execution_count": null,
   "metadata": {
    "scrolled": true
   },
   "outputs": [],
   "source": [
    "valstrs = ''\n",
    "for idx in data2.index:\n",
    "    s = '{value: %s, name: \\'%s\\'}' % (data2.ix[idx]['h_pro'], data2.ix[idx]['name'])\n",
    "    valstrs += s + ','\n",
    "valstrs = valstrs[:-1]"
   ]
  },
  {
   "cell_type": "code",
   "execution_count": null,
   "metadata": {
    "scrolled": true
   },
   "outputs": [],
   "source": [
    "datacontent = \"\"\"\n",
    "option = {\n",
    "    tooltip: {\n",
    "        trigger: 'item',\n",
    "        formatter: \"{a} <br/>{b}: {c} ({d}%)\"\n",
    "    },\n",
    "    legend: {\n",
    "        orient: 'vertical',\n",
    "        x: 'left',\n",
    "        data: \"\"\" + top10name +\"\"\"\n",
    "    },\n",
    "    series: [\n",
    "        {\n",
    "            name:'前十大流通股东：',\n",
    "            type:'pie',\n",
    "            radius: ['50%', '70%'],\n",
    "            avoidLabelOverlap: false,\n",
    "            label: {\n",
    "                normal: {\n",
    "                    show: false,\n",
    "                    position: 'center'\n",
    "                },\n",
    "                emphasis: {\n",
    "                    show: true,\n",
    "                    textStyle: {\n",
    "                        fontSize: '30',\n",
    "                        fontWeight: 'bold'\n",
    "                    }\n",
    "                }\n",
    "            },\n",
    "            labelLine: {\n",
    "                normal: {\n",
    "                    show: false\n",
    "                }\n",
    "            },\n",
    "            data:[\n",
    "                \"\"\" + valstrs + \"\"\"\n",
    "            ]\n",
    "        }\n",
    "    ]\n",
    "};\n",
    "\n",
    "\"\"\""
   ]
  },
  {
   "cell_type": "code",
   "execution_count": null,
   "metadata": {
    "scrolled": true
   },
   "outputs": [],
   "source": [
    "headstr = \"\"\"\n",
    "<div id=\"mychart\" style=\"width:800px; height:600px;\"></div> \n",
    "<script> \n",
    "require.config({ paths:{ echarts: '//cdn.bootcss.com/echarts/3.2.3/echarts.min', } });\n",
    "require(['echarts'],function(ec){\n",
    "var myChart = ec.init(document.getElementById('mychart'));\n",
    "\"\"\"\n",
    "\n",
    "tailstr = \"\"\"\n",
    "myChart.setOption(option);\n",
    "    });\n",
    "</script>\n",
    "\"\"\""
   ]
  },
  {
   "cell_type": "code",
   "execution_count": null,
   "metadata": {
    "scrolled": true
   },
   "outputs": [],
   "source": [
    "HTML(headstr + datacontent + tailstr)"
   ]
  },
  {
   "cell_type": "markdown",
   "metadata": {},
   "source": [
    "3、K线效果演示\n",
    "========="
   ]
  },
  {
   "cell_type": "code",
   "execution_count": null,
   "metadata": {
    "scrolled": true
   },
   "outputs": [],
   "source": [
    "#中国联通前复权数据\n",
    "#df = ts.get_k_data(stock_selected, start='2016-01-01', end='2016-12-02')\n",
    "df = ts.get_k_data(stock_selected, start='2016-01-01')\n",
    "datastr = ''\n",
    "for idx in df.index:\n",
    "    rowstr = '[\\'%s\\',%s,%s,%s,%s]' % (df.ix[idx]['date'], df.ix[idx]['open'], \n",
    "                                           df.ix[idx]['close'], df.ix[idx]['low'], \n",
    "                                           df.ix[idx]['high'])\n",
    "    datastr += rowstr + ','\n",
    "datastr = datastr[:-1]"
   ]
  },
  {
   "cell_type": "code",
   "execution_count": null,
   "metadata": {
    "scrolled": true
   },
   "outputs": [],
   "source": [
    "#取股票名称\n",
    "name = ts.get_realtime_quotes(stock_selected)['name'][0]"
   ]
  },
  {
   "cell_type": "code",
   "execution_count": null,
   "metadata": {
    "scrolled": true
   },
   "outputs": [],
   "source": [
    "datahead = \"\"\"\n",
    "<div id=\"chart\" style=\"width:800px; height:600px;\"></div> \n",
    "<script> \n",
    "require.config({ paths:{ echarts: '//cdn.bootcss.com/echarts/3.2.3/echarts.min', } });\n",
    "require(['echarts'],function(ec){\n",
    "var myChart = ec.init(document.getElementById('chart'));\n",
    "\"\"\"\n",
    "datavar = 'var data0 = splitData([%s]);' % datastr\n",
    "funcstr = \"\"\"\n",
    "function splitData(rawData) {\n",
    "    var categoryData = [];\n",
    "    var values = []\n",
    "    for (var i = 0; i < rawData.length; i++) {\n",
    "        categoryData.push(rawData[i].splice(0, 1)[0]);\n",
    "        values.push(rawData[i])\n",
    "    }\n",
    "    return {\n",
    "        categoryData: categoryData,\n",
    "        values: values\n",
    "    };\n",
    "}\n",
    "\n",
    "function calculateMA(dayCount) {\n",
    "    var result = [];\n",
    "    for (var i = 0, len = data0.values.length; i < len; i++) {\n",
    "        if (i < dayCount) {\n",
    "            result.push('-');\n",
    "            continue;\n",
    "        }\n",
    "        var sum = 0;\n",
    "        for (var j = 0; j < dayCount; j++) {\n",
    "            sum += data0.values[i - j][1];\n",
    "        }\n",
    "        result.push((sum / dayCount).toFixed(2));\n",
    "    }\n",
    "    return result;\n",
    "}\n",
    "\n",
    "option = {\n",
    "    title: {\n",
    "\"\"\"\n",
    "\n",
    "namestr = 'text: \\'%s\\',' %name\n",
    "\n",
    "functail = \"\"\"\n",
    "        left: 0\n",
    "    },\n",
    "    tooltip: {\n",
    "        trigger: 'axis',\n",
    "        axisPointer: {\n",
    "            type: 'line'\n",
    "        }\n",
    "    },\n",
    "    legend: {\n",
    "        data: ['日K', 'MA5', 'MA10', 'MA20', 'MA30']\n",
    "    },\n",
    "    grid: {\n",
    "        left: '10%',\n",
    "        right: '10%',\n",
    "        bottom: '15%'\n",
    "    },\n",
    "    xAxis: {\n",
    "        type: 'category',\n",
    "        data: data0.categoryData,\n",
    "        scale: true,\n",
    "        boundaryGap : false,\n",
    "        axisLine: {onZero: false},\n",
    "        splitLine: {show: false},\n",
    "        splitNumber: 20,\n",
    "        min: 'dataMin',\n",
    "        max: 'dataMax'\n",
    "    },\n",
    "    yAxis: {\n",
    "        scale: true,\n",
    "        splitArea: {\n",
    "            show: true\n",
    "        }\n",
    "    },\n",
    "    dataZoom: [\n",
    "        {\n",
    "            type: 'inside',\n",
    "            start: 50,\n",
    "            end: 100\n",
    "        },\n",
    "        {\n",
    "            show: true,\n",
    "            type: 'slider',\n",
    "            y: '90%',\n",
    "            start: 50,\n",
    "            end: 100\n",
    "        }\n",
    "    ],\n",
    "    series: [\n",
    "        {\n",
    "            name: '日K',\n",
    "            type: 'candlestick',\n",
    "            data: data0.values,\n",
    "            markPoint: {\n",
    "                label: {\n",
    "                    normal: {\n",
    "                        formatter: function (param) {\n",
    "                            return param != null ? Math.round(param.value) : '';\n",
    "                        }\n",
    "                    }\n",
    "                },\n",
    "                data: [\n",
    "                    {\n",
    "                        name: '标点',\n",
    "                        coord: ['2013/5/31', 2300],\n",
    "                        value: 2300,\n",
    "                        itemStyle: {\n",
    "                            normal: {color: 'rgb(41,60,85)'}\n",
    "                        }\n",
    "                    },\n",
    "                    {\n",
    "                        name: 'highest value',\n",
    "                        type: 'max',\n",
    "                        valueDim: 'highest'\n",
    "                    },\n",
    "                    {\n",
    "                        name: 'lowest value',\n",
    "                        type: 'min',\n",
    "                        valueDim: 'lowest'\n",
    "                    },\n",
    "                    {\n",
    "                        name: 'average value on close',\n",
    "                        type: 'average',\n",
    "                        valueDim: 'close'\n",
    "                    }\n",
    "                ],\n",
    "                tooltip: {\n",
    "                    formatter: function (param) {\n",
    "                        return param.name + '<br>' + (param.data.coord || '');\n",
    "                    }\n",
    "                }\n",
    "            },\n",
    "            markLine: {\n",
    "                symbol: ['none', 'none'],\n",
    "                data: [\n",
    "                    [\n",
    "                        {\n",
    "                            name: 'from lowest to highest',\n",
    "                            type: 'min',\n",
    "                            valueDim: 'lowest',\n",
    "                            symbol: 'circle',\n",
    "                            symbolSize: 10,\n",
    "                            label: {\n",
    "                                normal: {show: false},\n",
    "                                emphasis: {show: false}\n",
    "                            }\n",
    "                        },\n",
    "                        {\n",
    "                            type: 'max',\n",
    "                            valueDim: 'highest',\n",
    "                            symbol: 'circle',\n",
    "                            symbolSize: 10,\n",
    "                            label: {\n",
    "                                normal: {show: false},\n",
    "                                emphasis: {show: false}\n",
    "                            }\n",
    "                        }\n",
    "                    ],\n",
    "                    {\n",
    "                        name: 'min line on close',\n",
    "                        type: 'min',\n",
    "                        valueDim: 'close'\n",
    "                    },\n",
    "                    {\n",
    "                        name: 'max line on close',\n",
    "                        type: 'max',\n",
    "                        valueDim: 'close'\n",
    "                    }\n",
    "                ]\n",
    "            }\n",
    "        },\n",
    "        {\n",
    "            name: 'MA5',\n",
    "            type: 'line',\n",
    "            data: calculateMA(5),\n",
    "            smooth: true,\n",
    "            lineStyle: {\n",
    "                normal: {opacity: 0.5}\n",
    "            }\n",
    "        },\n",
    "        {\n",
    "            name: 'MA10',\n",
    "            type: 'line',\n",
    "            data: calculateMA(10),\n",
    "            smooth: true,\n",
    "            lineStyle: {\n",
    "                normal: {opacity: 0.5}\n",
    "            }\n",
    "        },\n",
    "        {\n",
    "            name: 'MA20',\n",
    "            type: 'line',\n",
    "            data: calculateMA(20),\n",
    "            smooth: true,\n",
    "            lineStyle: {\n",
    "                normal: {opacity: 0.5}\n",
    "            }\n",
    "        },\n",
    "        {\n",
    "            name: 'MA30',\n",
    "            type: 'line',\n",
    "            data: calculateMA(30),\n",
    "            smooth: true,\n",
    "            lineStyle: {\n",
    "                normal: {opacity: 0.5}\n",
    "            }\n",
    "        },\n",
    "\n",
    "    ]\n",
    "};\n",
    "myChart.setOption(option);\n",
    "    });\n",
    "</script>\n",
    "\"\"\""
   ]
  },
  {
   "cell_type": "code",
   "execution_count": null,
   "metadata": {
    "scrolled": true
   },
   "outputs": [],
   "source": [
    "HTML(datahead + datavar + funcstr + namestr + functail)"
   ]
  }
 ],
 "metadata": {
  "anaconda-cloud": {},
  "kernelspec": {
   "display_name": "Python 3",
   "language": "python",
   "name": "python3"
  },
  "language_info": {
   "codemirror_mode": {
    "name": "ipython",
    "version": 3
   },
   "file_extension": ".py",
   "mimetype": "text/x-python",
   "name": "python",
   "nbconvert_exporter": "python",
   "pygments_lexer": "ipython3",
   "version": "3.5.3"
  }
 },
 "nbformat": 4,
 "nbformat_minor": 1
}
