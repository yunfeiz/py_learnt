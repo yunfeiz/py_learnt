{
 "cells": [
  {
   "cell_type": "code",
   "execution_count": 2,
   "metadata": {
    "collapsed": false
   },
   "outputs": [],
   "source": [
    "import datetime\n",
    "\n",
    "def get_date_back(start, back):\n",
    "    "
   ]
  },
  {
   "cell_type": "code",
   "execution_count": 3,
   "metadata": {
    "collapsed": false
   },
   "outputs": [
    {
     "name": "stdout",
     "output_type": "stream",
     "text": [
      "Now:\n",
      "2017-06-11\n",
      "10 days ago:\n",
      "2017-06-01\n"
     ]
    }
   ],
   "source": [
    "from datetime import datetime, timedelta,date, time\n",
    "\n",
    "\n",
    "def n_days_ago(n):\n",
    "    now=datetime.now()\n",
    "    today=date.today()\n",
    "    print(\"Now:\\n\"+str(today))\n",
    "    ndays_ago=today-timedelta(n)\n",
    "    print(str(n)+\" days ago:\\n\"+str(ndays_ago))\n",
    "\n",
    "\n",
    "    \n",
    "n_days_ago(10)"
   ]
  },
  {
   "cell_type": "code",
   "execution_count": 7,
   "metadata": {
    "collapsed": false
   },
   "outputs": [
    {
     "data": {
      "text/html": [
       "<front color='red'>HTML code</front> test"
      ],
      "text/plain": [
       "<IPython.core.display.HTML object>"
      ]
     },
     "execution_count": 7,
     "metadata": {},
     "output_type": "execute_result"
    }
   ],
   "source": [
    "from IPython.display import HTML\n",
    "HTML('<front color=\\'red\\'>HTML code</front> test')"
   ]
  }
 ],
 "metadata": {
  "anaconda-cloud": {},
  "kernelspec": {
   "display_name": "Python [default]",
   "language": "python",
   "name": "python2"
  },
  "language_info": {
   "codemirror_mode": {
    "name": "ipython",
    "version": 2
   },
   "file_extension": ".py",
   "mimetype": "text/x-python",
   "name": "python",
   "nbconvert_exporter": "python",
   "pygments_lexer": "ipython2",
   "version": "2.7.12"
  }
 },
 "nbformat": 4,
 "nbformat_minor": 1
}
