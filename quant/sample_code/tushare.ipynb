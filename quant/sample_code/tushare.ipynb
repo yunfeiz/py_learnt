{
 "cells": [
  {
   "cell_type": "code",
   "execution_count": 1,
   "metadata": {
    "collapsed": false
   },
   "outputs": [
    {
     "data": {
      "text/html": [
       "<div>\n",
       "<table border=\"1\" class=\"dataframe\">\n",
       "  <thead>\n",
       "    <tr style=\"text-align: right;\">\n",
       "      <th></th>\n",
       "      <th>code</th>\n",
       "      <th>name</th>\n",
       "      <th>price</th>\n",
       "      <th>bid</th>\n",
       "      <th>ask</th>\n",
       "      <th>volume</th>\n",
       "      <th>amount</th>\n",
       "      <th>time</th>\n",
       "    </tr>\n",
       "  </thead>\n",
       "  <tbody>\n",
       "    <tr>\n",
       "      <th>0</th>\n",
       "      <td>300159</td>\n",
       "      <td>新研股份</td>\n",
       "      <td>12.000</td>\n",
       "      <td>12.000</td>\n",
       "      <td>12.010</td>\n",
       "      <td>2661673</td>\n",
       "      <td>31933936.590</td>\n",
       "      <td>13:40:57</td>\n",
       "    </tr>\n",
       "  </tbody>\n",
       "</table>\n",
       "</div>"
      ],
      "text/plain": [
       "     code  name   price     bid     ask   volume        amount      time\n",
       "0  300159  新研股份  12.000  12.000  12.010  2661673  31933936.590  13:40:57"
      ]
     },
     "execution_count": 1,
     "metadata": {},
     "output_type": "execute_result"
    }
   ],
   "source": [
    "import tushare as ts\n",
    "import pandas as pd\n",
    "stock_selected='300159'\n",
    "df = ts.get_realtime_quotes(stock_selected) \n",
    "df[['code','name','price','bid','ask','volume','amount','time']]"
   ]
  },
  {
   "cell_type": "code",
   "execution_count": null,
   "metadata": {
    "collapsed": false
   },
   "outputs": [],
   "source": [
    "cf=ts.get_concept_classified()\n",
    "print(cf)"
   ]
  },
  {
   "cell_type": "code",
   "execution_count": null,
   "metadata": {
    "collapsed": true
   },
   "outputs": [],
   "source": []
  },
  {
   "cell_type": "markdown",
   "metadata": {},
   "source": [
    "1、top 10 share holder"
   ]
  },
  {
   "cell_type": "code",
   "execution_count": 1,
   "metadata": {
    "collapsed": false
   },
   "outputs": [
    {
     "data": {
      "text/html": [
       "<div>\n",
       "<table border=\"1\" class=\"dataframe\">\n",
       "  <thead>\n",
       "    <tr style=\"text-align: right;\">\n",
       "      <th></th>\n",
       "      <th>quarter</th>\n",
       "      <th>amount</th>\n",
       "      <th>changed</th>\n",
       "      <th>props</th>\n",
       "    </tr>\n",
       "  </thead>\n",
       "  <tbody>\n",
       "    <tr>\n",
       "      <th>9</th>\n",
       "      <td>2015-03-31</td>\n",
       "      <td>26381.82</td>\n",
       "      <td>20203.57</td>\n",
       "      <td>58.75</td>\n",
       "    </tr>\n",
       "    <tr>\n",
       "      <th>8</th>\n",
       "      <td>2015-06-30</td>\n",
       "      <td>20772.26</td>\n",
       "      <td>-5609.56</td>\n",
       "      <td>46.25</td>\n",
       "    </tr>\n",
       "    <tr>\n",
       "      <th>7</th>\n",
       "      <td>2015-09-30</td>\n",
       "      <td>22702.83</td>\n",
       "      <td>1930.57</td>\n",
       "      <td>50.54</td>\n",
       "    </tr>\n",
       "    <tr>\n",
       "      <th>6</th>\n",
       "      <td>2015-12-31</td>\n",
       "      <td>41063.10</td>\n",
       "      <td>18360.27</td>\n",
       "      <td>64.55</td>\n",
       "    </tr>\n",
       "    <tr>\n",
       "      <th>5</th>\n",
       "      <td>2016-03-31</td>\n",
       "      <td>40620.09</td>\n",
       "      <td>-443.01</td>\n",
       "      <td>63.86</td>\n",
       "    </tr>\n",
       "    <tr>\n",
       "      <th>4</th>\n",
       "      <td>2016-06-30</td>\n",
       "      <td>39450.39</td>\n",
       "      <td>-1169.70</td>\n",
       "      <td>62.03</td>\n",
       "    </tr>\n",
       "    <tr>\n",
       "      <th>3</th>\n",
       "      <td>2016-09-30</td>\n",
       "      <td>41732.32</td>\n",
       "      <td>2281.93</td>\n",
       "      <td>60.53</td>\n",
       "    </tr>\n",
       "    <tr>\n",
       "      <th>2</th>\n",
       "      <td>2016-12-31</td>\n",
       "      <td>42186.90</td>\n",
       "      <td>454.58</td>\n",
       "      <td>61.18</td>\n",
       "    </tr>\n",
       "    <tr>\n",
       "      <th>1</th>\n",
       "      <td>2017-03-31</td>\n",
       "      <td>41636.51</td>\n",
       "      <td>-550.39</td>\n",
       "      <td>60.40</td>\n",
       "    </tr>\n",
       "    <tr>\n",
       "      <th>0</th>\n",
       "      <td>2017-06-30</td>\n",
       "      <td>40932.18</td>\n",
       "      <td>-704.33</td>\n",
       "      <td>59.38</td>\n",
       "    </tr>\n",
       "  </tbody>\n",
       "</table>\n",
       "</div>"
      ],
      "text/plain": [
       "      quarter    amount   changed  props\n",
       "9  2015-03-31  26381.82  20203.57  58.75\n",
       "8  2015-06-30  20772.26  -5609.56  46.25\n",
       "7  2015-09-30  22702.83   1930.57  50.54\n",
       "6  2015-12-31  41063.10  18360.27  64.55\n",
       "5  2016-03-31  40620.09   -443.01  63.86\n",
       "4  2016-06-30  39450.39  -1169.70  62.03\n",
       "3  2016-09-30  41732.32   2281.93  60.53\n",
       "2  2016-12-31  42186.90    454.58  61.18\n",
       "1  2017-03-31  41636.51   -550.39  60.40\n",
       "0  2017-06-30  40932.18   -704.33  59.38"
      ]
     },
     "execution_count": 1,
     "metadata": {},
     "output_type": "execute_result"
    }
   ],
   "source": [
    "import tushare as ts\n",
    "import pandas as pd\n",
    "stock_selected='600699'\n",
    "\n",
    "df1, data1 = ts.top10_holders(code=stock_selected, gdtype='1') \n",
    "df1 = df1.sort_values('quarter', ascending=True)\n",
    "df1.tail(10)\n",
    "\n",
    "#qts = list(df1['quarter'])\n",
    "#data = list(df1['props'])\n",
    "#name = ts.get_realtime_quotes(stock_selected)['name'][0]"
   ]
  },
  {
   "cell_type": "markdown",
   "metadata": {},
   "source": [
    "2、Top 10 share holder"
   ]
  },
  {
   "cell_type": "code",
   "execution_count": 3,
   "metadata": {
    "collapsed": false,
    "scrolled": true
   },
   "outputs": [
    {
     "data": {
      "text/plain": [
       "\"['宁波均胜投资集团有限公司', '乌鲁木齐喜尔盈股权投资有限合伙企业', '王剑峰', '香港中央结算有限公司', '中国长城资产管理公司', '中国证券金融股份有限公司', '平安大华基金－平安银行－建信资本管理有限责任公司', '重庆高新创投两江品牌汽车产业投资中心(有限合伙)', '中国银行股份有限公司－华夏新经济灵活配置混合型发起式证券投资基金', '全国社保基金一零九组合']\""
      ]
     },
     "execution_count": 3,
     "metadata": {},
     "output_type": "execute_result"
    }
   ],
   "source": [
    "import tushare as ts\n",
    "import pandas as pd\n",
    "from IPython.display import HTML\n",
    "#浦发银行2016三季度前十大流通股东情况\n",
    "df2, data2 = ts.top10_holders(code=stock_selected, year=2016, quarter=3, gdtype='1')\n",
    "\n",
    "#取前十大流通股东名称\n",
    "top10name = str(list(data2['name']))\n",
    "top10name"
   ]
  },
  {
   "cell_type": "markdown",
   "metadata": {},
   "source": [
    "获取沪深上市公司基本情况。属性包括：\n",
    "\n",
    "code,代码\n",
    "name,名称\n",
    "industry,所属行业\n",
    "area,地区\n",
    "pe,市盈率\n",
    "outstanding,流通股本(亿)\n",
    "totals,总股本(亿)\n",
    "totalAssets,总资产(万)\n",
    "liquidAssets,流动资产\n",
    "fixedAssets,固定资产\n",
    "reserved,公积金\n",
    "reservedPerShare,每股公积金\n",
    "esp,每股收益\n",
    "bvps,每股净资\n",
    "pb,市净率\n",
    "timeToMarket,上市日期\n",
    "undp,未分利润\n",
    "perundp, 每股未分配\n",
    "rev,收入同比(%)\n",
    "profit,利润同比(%)\n",
    "gpr,毛利率(%)\n",
    "npr,净利润率(%)\n",
    "holders,股东人数\n",
    "调用方法："
   ]
  },
  {
   "cell_type": "code",
   "execution_count": null,
   "metadata": {
    "collapsed": true
   },
   "outputs": [],
   "source": [
    "import tushare as ts\n",
    "df=ts.get_stock_basics()\n",
    "#data=df.loc('002281')\n",
    "#print(data['gpr'])\n",
    "#data=df.loc('002281')\n",
    "#df.ix['002281']\n"
   ]
  },
  {
   "cell_type": "code",
   "execution_count": null,
   "metadata": {
    "collapsed": true
   },
   "outputs": [],
   "source": [
    "#df.ix['002281']\n",
    "#df.ix['002281']\n",
    "#df.info()\n",
    "df[df.name == u'四维图新']\n"
   ]
  },
  {
   "cell_type": "code",
   "execution_count": null,
   "metadata": {
    "collapsed": true
   },
   "outputs": [],
   "source": [
    "df_out=df[(df.profit>20) & \n",
    "          (df.gpr > 25) &\n",
    "          (df.pe <120) &\n",
    "          (df.pe >0) &\n",
    "          (df.rev >0)][['name','industry','pe','profit','esp','rev','holders','gpr','npr']]\n",
    "df_out.sort_values(by='npr',ascending=False, inplace = True)\n",
    "df_out.rename(columns={'name':u'股票','industry':u'行业','pe':u'市盈率', \n",
    "                       'profit':u'利润同比','esp':u'每股收益','rev':u'收入同比',\n",
    "                       'holders':u'股东人数','gpr':u'毛利率','npr':u'净利率'})[:50]"
   ]
  },
  {
   "cell_type": "markdown",
   "metadata": {},
   "source": [
    "业绩报告（主表）\n",
    "按年度、季度获取业绩报表数据。数据获取需要一定的时间，网速取决于您的网速，请耐心等待。结果返回的数据属性说明如下：\n",
    "\n",
    "code,代码\n",
    "name,名称\n",
    "esp,每股收益\n",
    "eps_yoy,每股收益同比(%)\n",
    "bvps,每股净资产\n",
    "roe,净资产收益率(%)\n",
    "epcf,每股现金流量(元)\n",
    "net_profits,净利润(万元)\n",
    "profits_yoy,净利润同比(%)\n",
    "distrib,分配方案\n",
    "report_date,发布日期\n",
    "调用方法：\n",
    "\n",
    "#获取2014年第3季度的业绩报表数据\n",
    "ts.get_report_data(2014,3)\n",
    "\n",
    "结果返回：\n",
    "\n",
    "        code   name      esp   eps_yoy  bvps     roe   epcf net_profits  "
   ]
  },
  {
   "cell_type": "code",
   "execution_count": null,
   "metadata": {
    "collapsed": true
   },
   "outputs": [],
   "source": [
    "import tushare as ts\n",
    "df=ts.get_report_data(2016,4)"
   ]
  },
  {
   "cell_type": "code",
   "execution_count": null,
   "metadata": {
    "collapsed": true
   },
   "outputs": [],
   "source": [
    "#df[df.code=='002405']\n",
    "df"
   ]
  },
  {
   "cell_type": "markdown",
   "metadata": {},
   "source": [
    "盈利能力\n",
    "按年度、季度获取盈利能力数据，结果返回的数据属性说明如下：\n",
    "\n",
    "code,代码\n",
    "name,名称\n",
    "roe,净资产收益率(%)\n",
    "net_profit_ratio,净利率(%)\n",
    "gross_profit_rate,毛利率(%)\n",
    "net_profits,净利润(万元)\n",
    "esp,每股收益\n",
    "business_income,营业收入(百万元)\n",
    "bips,每股主营业务收入(元)\n",
    "调用方法：\n",
    "\n",
    "#获取2014年第3季度的盈利能力数据\n",
    "ts.get_profit_data(2014,3)\n",
    "结果返回："
   ]
  },
  {
   "cell_type": "code",
   "execution_count": 13,
   "metadata": {
    "collapsed": false
   },
   "outputs": [
    {
     "name": "stdout",
     "output_type": "stream",
     "text": [
      "[Getting data:]#######################################################"
     ]
    }
   ],
   "source": [
    "import tushare as ts\n",
    "df_profit = ts.get_profit_data(2017,1)"
   ]
  },
  {
   "cell_type": "code",
   "execution_count": 12,
   "metadata": {
    "collapsed": false
   },
   "outputs": [
    {
     "name": "stderr",
     "output_type": "stream",
     "text": [
      "c:\\anaconda2\\envs\\python35\\lib\\site-packages\\ipykernel_launcher.py:4: SettingWithCopyWarning: \n",
      "A value is trying to be set on a copy of a slice from a DataFrame\n",
      "\n",
      "See the caveats in the documentation: http://pandas.pydata.org/pandas-docs/stable/indexing.html#indexing-view-versus-copy\n",
      "  after removing the cwd from sys.path.\n"
     ]
    },
    {
     "data": {
      "text/html": [
       "<div>\n",
       "<table border=\"1\" class=\"dataframe\">\n",
       "  <thead>\n",
       "    <tr style=\"text-align: right;\">\n",
       "      <th></th>\n",
       "      <th>code</th>\n",
       "      <th>name</th>\n",
       "      <th>roe</th>\n",
       "      <th>net_profit_ratio</th>\n",
       "      <th>gross_profit_rate</th>\n",
       "      <th>net_profits</th>\n",
       "      <th>eps</th>\n",
       "      <th>business_income</th>\n",
       "      <th>bips</th>\n",
       "    </tr>\n",
       "  </thead>\n",
       "  <tbody>\n",
       "    <tr>\n",
       "      <th>4</th>\n",
       "      <td>600354</td>\n",
       "      <td>敦煌种业</td>\n",
       "      <td>23.40</td>\n",
       "      <td>302.21</td>\n",
       "      <td>25.0654</td>\n",
       "      <td>273.7035</td>\n",
       "      <td>0.5185</td>\n",
       "      <td>90.5655</td>\n",
       "      <td>0.1715</td>\n",
       "    </tr>\n",
       "    <tr>\n",
       "      <th>6</th>\n",
       "      <td>600230</td>\n",
       "      <td>沧州大化</td>\n",
       "      <td>21.94</td>\n",
       "      <td>39.66</td>\n",
       "      <td>55.6318</td>\n",
       "      <td>424.8125</td>\n",
       "      <td>1.4440</td>\n",
       "      <td>1070.9230</td>\n",
       "      <td>3.6402</td>\n",
       "    </tr>\n",
       "    <tr>\n",
       "      <th>7</th>\n",
       "      <td>600338</td>\n",
       "      <td>西藏珠峰</td>\n",
       "      <td>20.28</td>\n",
       "      <td>53.09</td>\n",
       "      <td>70.4140</td>\n",
       "      <td>305.8753</td>\n",
       "      <td>0.4684</td>\n",
       "      <td>576.0689</td>\n",
       "      <td>0.8821</td>\n",
       "    </tr>\n",
       "    <tr>\n",
       "      <th>8</th>\n",
       "      <td>000036</td>\n",
       "      <td>华联控股</td>\n",
       "      <td>18.32</td>\n",
       "      <td>42.51</td>\n",
       "      <td>71.4131</td>\n",
       "      <td>758.4114</td>\n",
       "      <td>0.6643</td>\n",
       "      <td>1783.7509</td>\n",
       "      <td>1.5625</td>\n",
       "    </tr>\n",
       "    <tr>\n",
       "      <th>9</th>\n",
       "      <td>300288</td>\n",
       "      <td>朗玛信息</td>\n",
       "      <td>18.30</td>\n",
       "      <td>85.96</td>\n",
       "      <td>26.9264</td>\n",
       "      <td>240.8041</td>\n",
       "      <td>0.7125</td>\n",
       "      <td>280.1342</td>\n",
       "      <td>0.8289</td>\n",
       "    </tr>\n",
       "    <tr>\n",
       "      <th>10</th>\n",
       "      <td>600291</td>\n",
       "      <td>西水股份</td>\n",
       "      <td>17.53</td>\n",
       "      <td>22.32</td>\n",
       "      <td>26.3018</td>\n",
       "      <td>2117.8868</td>\n",
       "      <td>1.9375</td>\n",
       "      <td>9488.7197</td>\n",
       "      <td>8.6808</td>\n",
       "    </tr>\n",
       "    <tr>\n",
       "      <th>11</th>\n",
       "      <td>000505</td>\n",
       "      <td>珠江控股</td>\n",
       "      <td>17.44</td>\n",
       "      <td>5.48</td>\n",
       "      <td>26.3391</td>\n",
       "      <td>13.7571</td>\n",
       "      <td>0.0322</td>\n",
       "      <td>250.7017</td>\n",
       "      <td>0.5874</td>\n",
       "    </tr>\n",
       "    <tr>\n",
       "      <th>12</th>\n",
       "      <td>000526</td>\n",
       "      <td>*ST紫学</td>\n",
       "      <td>16.87</td>\n",
       "      <td>1.29</td>\n",
       "      <td>28.5887</td>\n",
       "      <td>9.1549</td>\n",
       "      <td>0.0951</td>\n",
       "      <td>708.2125</td>\n",
       "      <td>7.3622</td>\n",
       "    </tr>\n",
       "    <tr>\n",
       "      <th>13</th>\n",
       "      <td>600633</td>\n",
       "      <td>浙数文化</td>\n",
       "      <td>16.31</td>\n",
       "      <td>192.98</td>\n",
       "      <td>43.5107</td>\n",
       "      <td>1259.7513</td>\n",
       "      <td>0.9676</td>\n",
       "      <td>652.7781</td>\n",
       "      <td>0.5013</td>\n",
       "    </tr>\n",
       "    <tr>\n",
       "      <th>14</th>\n",
       "      <td>600167</td>\n",
       "      <td>联美控股</td>\n",
       "      <td>15.40</td>\n",
       "      <td>43.16</td>\n",
       "      <td>60.2320</td>\n",
       "      <td>451.5746</td>\n",
       "      <td>0.6639</td>\n",
       "      <td>1046.1494</td>\n",
       "      <td>1.5381</td>\n",
       "    </tr>\n",
       "    <tr>\n",
       "      <th>17</th>\n",
       "      <td>600393</td>\n",
       "      <td>粤泰股份</td>\n",
       "      <td>13.13</td>\n",
       "      <td>28.34</td>\n",
       "      <td>44.0938</td>\n",
       "      <td>725.1229</td>\n",
       "      <td>0.5718</td>\n",
       "      <td>2558.6270</td>\n",
       "      <td>2.0176</td>\n",
       "    </tr>\n",
       "    <tr>\n",
       "      <th>18</th>\n",
       "      <td>002027</td>\n",
       "      <td>分众传媒</td>\n",
       "      <td>12.20</td>\n",
       "      <td>45.72</td>\n",
       "      <td>67.5988</td>\n",
       "      <td>1106.7614</td>\n",
       "      <td>0.1266</td>\n",
       "      <td>2420.4147</td>\n",
       "      <td>0.2770</td>\n",
       "    </tr>\n",
       "    <tr>\n",
       "      <th>19</th>\n",
       "      <td>603165</td>\n",
       "      <td>荣晟环保</td>\n",
       "      <td>12.03</td>\n",
       "      <td>19.96</td>\n",
       "      <td>28.6107</td>\n",
       "      <td>95.2930</td>\n",
       "      <td>0.7522</td>\n",
       "      <td>477.2464</td>\n",
       "      <td>3.7673</td>\n",
       "    </tr>\n",
       "    <tr>\n",
       "      <th>20</th>\n",
       "      <td>000822</td>\n",
       "      <td>山东海化</td>\n",
       "      <td>11.38</td>\n",
       "      <td>24.99</td>\n",
       "      <td>32.6209</td>\n",
       "      <td>275.6988</td>\n",
       "      <td>0.3080</td>\n",
       "      <td>1103.2008</td>\n",
       "      <td>1.2324</td>\n",
       "    </tr>\n",
       "    <tr>\n",
       "      <th>21</th>\n",
       "      <td>600309</td>\n",
       "      <td>万华化学</td>\n",
       "      <td>11.26</td>\n",
       "      <td>19.94</td>\n",
       "      <td>39.2307</td>\n",
       "      <td>2195.0598</td>\n",
       "      <td>0.9634</td>\n",
       "      <td>11007.0486</td>\n",
       "      <td>4.8311</td>\n",
       "    </tr>\n",
       "    <tr>\n",
       "      <th>22</th>\n",
       "      <td>000011</td>\n",
       "      <td>深物业A</td>\n",
       "      <td>11.11</td>\n",
       "      <td>29.03</td>\n",
       "      <td>74.7318</td>\n",
       "      <td>301.5978</td>\n",
       "      <td>0.5060</td>\n",
       "      <td>1038.6835</td>\n",
       "      <td>1.7428</td>\n",
       "    </tr>\n",
       "    <tr>\n",
       "      <th>24</th>\n",
       "      <td>603387</td>\n",
       "      <td>基蛋生物</td>\n",
       "      <td>10.73</td>\n",
       "      <td>44.22</td>\n",
       "      <td>82.0964</td>\n",
       "      <td>40.8975</td>\n",
       "      <td>0.4131</td>\n",
       "      <td>92.4743</td>\n",
       "      <td>0.9340</td>\n",
       "    </tr>\n",
       "    <tr>\n",
       "      <th>25</th>\n",
       "      <td>002714</td>\n",
       "      <td>牧原股份</td>\n",
       "      <td>10.72</td>\n",
       "      <td>34.55</td>\n",
       "      <td>40.4656</td>\n",
       "      <td>680.0364</td>\n",
       "      <td>0.6578</td>\n",
       "      <td>1967.8447</td>\n",
       "      <td>1.9036</td>\n",
       "    </tr>\n",
       "  </tbody>\n",
       "</table>\n",
       "</div>"
      ],
      "text/plain": [
       "      code   name    roe  net_profit_ratio  gross_profit_rate  net_profits  \\\n",
       "4   600354   敦煌种业  23.40            302.21            25.0654     273.7035   \n",
       "6   600230   沧州大化  21.94             39.66            55.6318     424.8125   \n",
       "7   600338   西藏珠峰  20.28             53.09            70.4140     305.8753   \n",
       "8   000036   华联控股  18.32             42.51            71.4131     758.4114   \n",
       "9   300288   朗玛信息  18.30             85.96            26.9264     240.8041   \n",
       "10  600291   西水股份  17.53             22.32            26.3018    2117.8868   \n",
       "11  000505   珠江控股  17.44              5.48            26.3391      13.7571   \n",
       "12  000526  *ST紫学  16.87              1.29            28.5887       9.1549   \n",
       "13  600633   浙数文化  16.31            192.98            43.5107    1259.7513   \n",
       "14  600167   联美控股  15.40             43.16            60.2320     451.5746   \n",
       "17  600393   粤泰股份  13.13             28.34            44.0938     725.1229   \n",
       "18  002027   分众传媒  12.20             45.72            67.5988    1106.7614   \n",
       "19  603165   荣晟环保  12.03             19.96            28.6107      95.2930   \n",
       "20  000822   山东海化  11.38             24.99            32.6209     275.6988   \n",
       "21  600309   万华化学  11.26             19.94            39.2307    2195.0598   \n",
       "22  000011   深物业A  11.11             29.03            74.7318     301.5978   \n",
       "24  603387   基蛋生物  10.73             44.22            82.0964      40.8975   \n",
       "25  002714   牧原股份  10.72             34.55            40.4656     680.0364   \n",
       "\n",
       "       eps  business_income    bips  \n",
       "4   0.5185          90.5655  0.1715  \n",
       "6   1.4440        1070.9230  3.6402  \n",
       "7   0.4684         576.0689  0.8821  \n",
       "8   0.6643        1783.7509  1.5625  \n",
       "9   0.7125         280.1342  0.8289  \n",
       "10  1.9375        9488.7197  8.6808  \n",
       "11  0.0322         250.7017  0.5874  \n",
       "12  0.0951         708.2125  7.3622  \n",
       "13  0.9676         652.7781  0.5013  \n",
       "14  0.6639        1046.1494  1.5381  \n",
       "17  0.5718        2558.6270  2.0176  \n",
       "18  0.1266        2420.4147  0.2770  \n",
       "19  0.7522         477.2464  3.7673  \n",
       "20  0.3080        1103.2008  1.2324  \n",
       "21  0.9634       11007.0486  4.8311  \n",
       "22  0.5060        1038.6835  1.7428  \n",
       "24  0.4131          92.4743  0.9340  \n",
       "25  0.6578        1967.8447  1.9036  "
      ]
     },
     "execution_count": 12,
     "metadata": {},
     "output_type": "execute_result"
    }
   ],
   "source": [
    "#df_profit.info()\n",
    "#df_profit[df_profit.code == '002405']\n",
    "df_out=df_profit[(df_profit.roe>10) & (df_profit.gross_profit_rate > 25) & (df_profit.net_profits >0)]\n",
    "df_out.sort_values(by='roe',ascending=False, inplace = True)\n",
    "df_out[:50]"
   ]
  },
  {
   "cell_type": "code",
   "execution_count": null,
   "metadata": {
    "collapsed": true
   },
   "outputs": [],
   "source": []
  },
  {
   "cell_type": "markdown",
   "metadata": {},
   "source": [
    "   \n",
    "营运能力\n",
    "按年度、季度获取营运能力数据，结果返回的数据属性说明如下：\n",
    "\n",
    "code,代码\n",
    "name,名称\n",
    "arturnover,应收账款周转率(次)\n",
    "arturndays,应收账款周转天数(天)\n",
    "inventory_turnover,存货周转率(次)\n",
    "inventory_days,存货周转天数(天)\n",
    "currentasset_turnover,流动资产周转率(次)\n",
    "currentasset_days,流动资产周转天数(天)\n",
    "调用方法：\n",
    "\n",
    "#获取2014年第3季度的营运能力数据\n",
    "ts.get_operation_data(2014,3)\n",
    "结果返回：\n",
    "\n",
    "      code     name   arturnover arturndays  inventory_turnover  inventory_days  \\"
   ]
  },
  {
   "cell_type": "code",
   "execution_count": null,
   "metadata": {
    "collapsed": true
   },
   "outputs": [],
   "source": [
    "import tushare as ts\n",
    "df_operation = ts.get_operation_data(2017,1)"
   ]
  },
  {
   "cell_type": "code",
   "execution_count": null,
   "metadata": {
    "collapsed": true
   },
   "outputs": [],
   "source": [
    "df_out=df_operation[df_operation.currentasset_days<120]\n",
    "df_out.sort_values(by='currentasset_days',ascending=False, inplace = True)\n",
    "df_out[:50]"
   ]
  },
  {
   "cell_type": "markdown",
   "metadata": {},
   "source": [
    "### 成长能力\n",
    "\n",
    "按年度、季度获取成长能力数据，结果返回的数据属性说明如下：\n",
    "\n",
    "code,代码\n",
    "name,名称\n",
    "mbrg,主营业务收入增长率(%)\n",
    "nprg,净利润增长率(%)\n",
    "nav,净资产增长率\n",
    "targ,总资产增长率\n",
    "epsg,每股收益增长率\n",
    "seg,股东权益增长率\n",
    "调用方法：\n",
    "\n",
    "#获取2014年第3季度的成长能力数据\n",
    "ts.get_growth_data(2014,3)\n",
    "结果返回："
   ]
  },
  {
   "cell_type": "code",
   "execution_count": null,
   "metadata": {
    "collapsed": true
   },
   "outputs": [],
   "source": [
    "# -*- coding: UTF-8 -*-\n",
    "import tushare as ts\n",
    "df_growth = ts.get_growth_data(2017,1)"
   ]
  },
  {
   "cell_type": "code",
   "execution_count": null,
   "metadata": {
    "collapsed": true
   },
   "outputs": [],
   "source": [
    "import numpy as np\n",
    "import pandas as pd\n",
    "df_out = df_growth[(df_growth.nprg >20) &\n",
    "                  (df_growth.mbrg >20)]\n",
    "df_out.sort_values(by= 'nprg', ascending = True, inplace=True)\n",
    "writer = pd.ExcelWriter('growth.xlsx')\n",
    "df_out.to_excel(writer,'growth')\n",
    "writer.save()\n",
    "#df_out.to_csv(\".\\growth.csv\",encoding=\"utf_8_sig\",dtype={'code':np.string})\n",
    "df_out[:50]"
   ]
  },
  {
   "cell_type": "markdown",
   "metadata": {},
   "source": [
    "偿债能力\n",
    "按年度、季度获取偿债能力数据，结果返回的数据属性说明如下：\n",
    "\n",
    "code,代码\n",
    "name,名称\n",
    "currentratio,流动比率\n",
    "quickratio,速动比率\n",
    "cashratio,现金比率\n",
    "icratio,利息支付倍数\n",
    "sheqratio,股东权益比率\n",
    "adratio,股东权益增长率\n",
    "调用方法：\n",
    "\n",
    "#获取2014年第3季度的偿债能力数据\n",
    "ts.get_debtpaying_data(2014,3)\n",
    "结果返回：\n",
    "\n",
    "      code     name     currentratio quickratio    cashratio      icratio  \\"
   ]
  },
  {
   "cell_type": "markdown",
   "metadata": {},
   "source": [
    "现金流量\n",
    "按年度、季度获取现金流量数据，结果返回的数据属性说明如下：\n",
    "\n",
    "code,代码\n",
    "name,名称\n",
    "cf_sales,经营现金净流量对销售收入比率\n",
    "rateofreturn,资产的经营现金流量回报率\n",
    "cf_nm,经营现金净流量与净利润的比率\n",
    "cf_liabilities,经营现金净流量对负债比率\n",
    "cashflowratio,现金流量比率\n",
    "调用方法：\n",
    "\n",
    "#获取2014年第3季度的现金流量数据\n",
    "ts.get_cashflow_data(2014,3)\n",
    "结果返回：\n",
    "\n",
    "      code    name    cf_sales   rateofreturn  cf_nm     cf_liabilities  \\\n",
    "'''"
   ]
  },
  {
   "cell_type": "code",
   "execution_count": null,
   "metadata": {
    "collapsed": true
   },
   "outputs": [],
   "source": [
    "import tushare as ts\n",
    "df_cash = ts.get_cashflow_data(2016,4)"
   ]
  },
  {
   "cell_type": "code",
   "execution_count": null,
   "metadata": {
    "collapsed": true
   },
   "outputs": [],
   "source": [
    "df_out = df_cash[(df_cash.cf_sales > 0)]\n",
    "df_out.sort_values(by = 'cf_sales', ascending = True, inplace = True)\n",
    "df_out[:50]"
   ]
  },
  {
   "cell_type": "markdown",
   "metadata": {},
   "source": [
    "3、CandleStick"
   ]
  },
  {
   "cell_type": "code",
   "execution_count": null,
   "metadata": {
    "collapsed": true,
    "scrolled": true
   },
   "outputs": [],
   "source": [
    "import tushare as ts\n",
    "import pandas as pd\n",
    "from IPython.display import HTML\n",
    "#中国联通前复权数据\n",
    "#df = ts.get_k_data(stock_selected, start='2016-01-01', end='2016-12-02')\n",
    "df = ts.get_k_data(stock_selected, start='2016-01-01')\n"
   ]
  },
  {
   "cell_type": "code",
   "execution_count": null,
   "metadata": {
    "collapsed": true,
    "scrolled": true
   },
   "outputs": [],
   "source": [
    "datastr = ''\n",
    "for idx in df.index:\n",
    "    rowstr = '[\\'%s\\',%s,%s,%s,%s]' % (df.ix[idx]['date'], df.ix[idx]['open'], \n",
    "                                           df.ix[idx]['close'], df.ix[idx]['low'], \n",
    "                                           df.ix[idx]['high'])\n",
    "    datastr += rowstr + ','\n",
    "datastr = datastr[:-1]\n",
    "#取股票名称\n",
    "name = ts.get_realtime_quotes(stock_selected)['name'][0]\n",
    "\n",
    "datahead = \"\"\"\n",
    "<div id=\"chart\" style=\"width:800px; height:600px;\"></div> \n",
    "<script> \n",
    "require.config({ paths:{ echarts: '//cdn.bootcss.com/echarts/3.2.3/echarts.min', } });\n",
    "require(['echarts'],function(ec){\n",
    "var myChart = ec.init(document.getElementById('chart'));\n",
    "\"\"\"\n",
    "datavar = 'var data0 = splitData([%s]);' % datastr\n",
    "funcstr = \"\"\"\n",
    "function splitData(rawData) {\n",
    "    var categoryData = [];\n",
    "    var values = []\n",
    "    for (var i = 0; i < rawData.length; i++) {\n",
    "        categoryData.push(rawData[i].splice(0, 1)[0]);\n",
    "        values.push(rawData[i])\n",
    "    }\n",
    "    return {\n",
    "        categoryData: categoryData,\n",
    "        values: values\n",
    "    };\n",
    "}\n",
    "\n",
    "function calculateMA(dayCount) {\n",
    "    var result = [];\n",
    "    for (var i = 0, len = data0.values.length; i < len; i++) {\n",
    "        if (i < dayCount) {\n",
    "            result.push('-');\n",
    "            continue;\n",
    "        }\n",
    "        var sum = 0;\n",
    "        for (var j = 0; j < dayCount; j++) {\n",
    "            sum += data0.values[i - j][1];\n",
    "        }\n",
    "        result.push((sum / dayCount).toFixed(2));\n",
    "    }\n",
    "    return result;\n",
    "}\n",
    "\n",
    "option = {\n",
    "    title: {\n",
    "\"\"\"\n",
    "\n",
    "namestr = 'text: \\'%s\\',' %name\n",
    "\n",
    "functail = \"\"\"\n",
    "        left: 0\n",
    "    },\n",
    "    tooltip: {\n",
    "        trigger: 'axis',\n",
    "        axisPointer: {\n",
    "            type: 'line'\n",
    "        }\n",
    "    },\n",
    "    legend: {\n",
    "        data: ['日K', 'MA5', 'MA10', 'MA20', 'MA30']\n",
    "    },\n",
    "    grid: {\n",
    "        left: '10%',\n",
    "        right: '10%',\n",
    "        bottom: '15%'\n",
    "    },\n",
    "    xAxis: {\n",
    "        type: 'category',\n",
    "        data: data0.categoryData,\n",
    "        scale: true,\n",
    "        boundaryGap : false,\n",
    "        axisLine: {onZero: false},\n",
    "        splitLine: {show: false},\n",
    "        splitNumber: 20,\n",
    "        min: 'dataMin',\n",
    "        max: 'dataMax'\n",
    "    },\n",
    "    yAxis: {\n",
    "        scale: true,\n",
    "        splitArea: {\n",
    "            show: true\n",
    "        }\n",
    "    },\n",
    "    dataZoom: [\n",
    "        {\n",
    "            type: 'inside',\n",
    "            start: 50,\n",
    "            end: 100\n",
    "        },\n",
    "        {\n",
    "            show: true,\n",
    "            type: 'slider',\n",
    "            y: '90%',\n",
    "            start: 50,\n",
    "            end: 100\n",
    "        }\n",
    "    ],\n",
    "    series: [\n",
    "        {\n",
    "            name: '日K',\n",
    "            type: 'candlestick',\n",
    "            data: data0.values,\n",
    "            markPoint: {\n",
    "                label: {\n",
    "                    normal: {\n",
    "                        formatter: function (param) {\n",
    "                            return param != null ? Math.round(param.value) : '';\n",
    "                        }\n",
    "                    }\n",
    "                },\n",
    "                data: [\n",
    "                    {\n",
    "                        name: '标点',\n",
    "                        coord: ['2013/5/31', 2300],\n",
    "                        value: 2300,\n",
    "                        itemStyle: {\n",
    "                            normal: {color: 'rgb(41,60,85)'}\n",
    "                        }\n",
    "                    },\n",
    "                    {\n",
    "                        name: 'highest value',\n",
    "                        type: 'max',\n",
    "                        valueDim: 'highest'\n",
    "                    },\n",
    "                    {\n",
    "                        name: 'lowest value',\n",
    "                        type: 'min',\n",
    "                        valueDim: 'lowest'\n",
    "                    },\n",
    "                    {\n",
    "                        name: 'average value on close',\n",
    "                        type: 'average',\n",
    "                        valueDim: 'close'\n",
    "                    }\n",
    "                ],\n",
    "                tooltip: {\n",
    "                    formatter: function (param) {\n",
    "                        return param.name + '<br>' + (param.data.coord || '');\n",
    "                    }\n",
    "                }\n",
    "            },\n",
    "            markLine: {\n",
    "                symbol: ['none', 'none'],\n",
    "                data: [\n",
    "                    [\n",
    "                        {\n",
    "                            name: 'from lowest to highest',\n",
    "                            type: 'min',\n",
    "                            valueDim: 'lowest',\n",
    "                            symbol: 'circle',\n",
    "                            symbolSize: 10,\n",
    "                            label: {\n",
    "                                normal: {show: false},\n",
    "                                emphasis: {show: false}\n",
    "                            }\n",
    "                        },\n",
    "                        {\n",
    "                            type: 'max',\n",
    "                            valueDim: 'highest',\n",
    "                            symbol: 'circle',\n",
    "                            symbolSize: 10,\n",
    "                            label: {\n",
    "                                normal: {show: false},\n",
    "                                emphasis: {show: false}\n",
    "                            }\n",
    "                        }\n",
    "                    ],\n",
    "                    {\n",
    "                        name: 'min line on close',\n",
    "                        type: 'min',\n",
    "                        valueDim: 'close'\n",
    "                    },\n",
    "                    {\n",
    "                        name: 'max line on close',\n",
    "                        type: 'max',\n",
    "                        valueDim: 'close'\n",
    "                    }\n",
    "                ]\n",
    "            }\n",
    "        },\n",
    "        {\n",
    "            name: 'MA5',\n",
    "            type: 'line',\n",
    "            data: calculateMA(5),\n",
    "            smooth: true,\n",
    "            lineStyle: {\n",
    "                normal: {opacity: 0.5}\n",
    "            }\n",
    "        },\n",
    "        {\n",
    "            name: 'MA10',\n",
    "            type: 'line',\n",
    "            data: calculateMA(10),\n",
    "            smooth: true,\n",
    "            lineStyle: {\n",
    "                normal: {opacity: 0.5}\n",
    "            }\n",
    "        },\n",
    "        {\n",
    "            name: 'MA20',\n",
    "            type: 'line',\n",
    "            data: calculateMA(20),\n",
    "            smooth: true,\n",
    "            lineStyle: {\n",
    "                normal: {opacity: 0.5}\n",
    "            }\n",
    "        },\n",
    "        {\n",
    "            name: 'MA30',\n",
    "            type: 'line',\n",
    "            data: calculateMA(30),\n",
    "            smooth: true,\n",
    "            lineStyle: {\n",
    "                normal: {opacity: 0.5}\n",
    "            }\n",
    "        },\n",
    "\n",
    "    ]\n",
    "};\n",
    "myChart.setOption(option);\n",
    "    });\n",
    "</script>\n",
    "\"\"\""
   ]
  },
  {
   "cell_type": "code",
   "execution_count": null,
   "metadata": {
    "collapsed": true
   },
   "outputs": [],
   "source": [
    "HTML(datahead + datavar + funcstr + namestr + functail)"
   ]
  },
  {
   "cell_type": "code",
   "execution_count": null,
   "metadata": {
    "collapsed": true
   },
   "outputs": [],
   "source": [
    "import tushare as ts\n",
    "import pandas as pd\n",
    "import numpy as np\n",
    "import matplotlib.pyplot as plt\n",
    "stock_selected='002281'\n",
    "df = ts.get_k_data(stock_selected, start='2016-01-01')\n",
    "df.info()"
   ]
  },
  {
   "cell_type": "code",
   "execution_count": null,
   "metadata": {
    "collapsed": true
   },
   "outputs": [],
   "source": [
    "#df['close'].plot(grid=True)"
   ]
  },
  {
   "cell_type": "code",
   "execution_count": null,
   "metadata": {
    "collapsed": true
   },
   "outputs": [],
   "source": [
    "#df['42d']= np.round(pd.rolling_mean(df['close'],window=42),2)\n",
    "#df['252d']= np.round(pd.rolling_mean(df['close'],window=252),2)\n",
    "df['42d']= np.round(pd.Series.rolling(df['close'],window=42).mean(),2)\n",
    "df['252d']= np.round(pd.Series.rolling(df['close'],window=252).mean(),2)"
   ]
  },
  {
   "cell_type": "code",
   "execution_count": null,
   "metadata": {
    "collapsed": true
   },
   "outputs": [],
   "source": [
    "#df[['close','42d','252d']].tail(10)"
   ]
  },
  {
   "cell_type": "code",
   "execution_count": null,
   "metadata": {
    "collapsed": true
   },
   "outputs": [],
   "source": [
    "df[['close','42d','252d']].plot(grid=True)"
   ]
  },
  {
   "cell_type": "code",
   "execution_count": null,
   "metadata": {
    "collapsed": true
   },
   "outputs": [],
   "source": [
    "df['42-252']=df['42d']-df['252d']\n",
    "#df['42-252'].tail(10)"
   ]
  },
  {
   "cell_type": "code",
   "execution_count": null,
   "metadata": {
    "collapsed": true
   },
   "outputs": [],
   "source": [
    "SD=1\n",
    "df['regime'] = np.where(df['42-252']>SD,1,0)\n",
    "df['regime'] = np.where(df['42-252'] < -SD,-1,df['regime'])\n",
    "#df['regime'].head(10)"
   ]
  },
  {
   "cell_type": "code",
   "execution_count": null,
   "metadata": {
    "collapsed": true
   },
   "outputs": [],
   "source": [
    "df['regime'].tail(10)"
   ]
  },
  {
   "cell_type": "code",
   "execution_count": null,
   "metadata": {
    "collapsed": true
   },
   "outputs": [],
   "source": [
    "#df['regime'].plot(lw=1.5)\n",
    "#plt.ylim(-1.1, 1.1)"
   ]
  },
  {
   "cell_type": "code",
   "execution_count": null,
   "metadata": {
    "collapsed": true
   },
   "outputs": [],
   "source": [
    "plt.show()"
   ]
  }
 ],
 "metadata": {
  "anaconda-cloud": {},
  "kernelspec": {
   "display_name": "Python [conda env:pytorch]",
   "language": "python",
   "name": "conda-env-pytorch-py"
  },
  "language_info": {
   "codemirror_mode": {
    "name": "ipython",
    "version": 3
   },
   "file_extension": ".py",
   "mimetype": "text/x-python",
   "name": "python",
   "nbconvert_exporter": "python",
   "pygments_lexer": "ipython3",
   "version": "3.5.3"
  }
 },
 "nbformat": 4,
 "nbformat_minor": 1
}
