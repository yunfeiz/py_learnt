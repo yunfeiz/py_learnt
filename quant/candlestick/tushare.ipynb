{
 "cells": [
  {
   "cell_type": "code",
   "execution_count": null,
   "metadata": {},
   "outputs": [],
   "source": [
    "# -*- coding:utf-8 -*-\n",
    "import matplotlib as mpl\n",
    "import tushare as ts\n",
    "import matplotlib.pyplot as plt\n",
    "import mpl_finance as mpf\n",
    "%matplotlib inline"
   ]
  },
  {
   "cell_type": "code",
   "execution_count": null,
   "metadata": {},
   "outputs": [],
   "source": [
    "wdyx = ts.get_k_data('002739','2017-01-01','2017-11-01')"
   ]
  },
  {
   "cell_type": "code",
   "execution_count": null,
   "metadata": {},
   "outputs": [],
   "source": [
    "# 导入两个涉及的库\n",
    "from matplotlib.pylab import date2num\n",
    "import datetime\n",
    "\n",
    "# 对tushare获取到的数据转换成candlestick_ohlc()方法可读取的格式\n",
    "'''\n",
    "data_list = []\n",
    "for dates,row in hist_data.iterrows():\n",
    "    # 将时间转换为数字\n",
    "    date_time = datetime.datetime.strptime(dates,'%Y-%m-%d')\n",
    "    t = date2num(date_time)\n",
    "    open,high,low,close = row[:4]\n",
    "    datas = (t,open,high,low,close)\n",
    "    data_list.append(datas)\n",
    "'''\n",
    "def date_to_num(dates):\n",
    "    num_time = []\n",
    "    for date in dates:\n",
    "        date_time = datetime.datetime.strptime(date,'%Y-%m-%d')\n",
    "        num_date = date2num(date_time)\n",
    "        num_time.append(num_date)\n",
    "    return num_time\n",
    "print(wdyx.head(5))\n",
    "wdyx=wdyx[['date','open','close','high','low','volume']]\n",
    "print(wdyx.head(5))\n",
    "# dataframe转换为二维数组\n",
    "mat_wdyx = wdyx.as_matrix()\n",
    "num_time = date_to_num(mat_wdyx[:,0])\n",
    "mat_wdyx[:,0] = num_time\n",
    "#         日期,   开盘,     收盘,    最高,      最低,   成交量,    代码"
   ]
  },
  {
   "cell_type": "code",
   "execution_count": null,
   "metadata": {},
   "outputs": [],
   "source": [
    "fig, ax = plt.subplots(figsize=(15,10))\n",
    "fig.subplots_adjust(bottom=0.5)\n",
    "mpf.candlestick_ochl(ax, mat_wdyx, width=0.5, colorup='g', colordown='r', alpha=1.0)\n",
    "plt.grid(True)\n",
    "# 设置日期刻度旋转的角度 \n",
    "plt.xticks(rotation=30)\n",
    "plt.title('wanda yuanxian 17')\n",
    "plt.xlabel('Date')\n",
    "plt.ylabel('Price')\n",
    "# x轴的刻度为日期\n",
    "ax.xaxis_date ()\n",
    "###candlestick_ochl()函数的参数\n",
    "# ax 绘图Axes的实例\n",
    "# mat_wdyx 价格历史数据\n",
    "# width    图像中红绿矩形的宽度,代表天数\n",
    "# colorup  收盘价格大于开盘价格时的颜色\n",
    "# colordown   低于开盘价格时矩形的颜色\n",
    "# alpha      矩形的颜色的透明度"
   ]
  },
  {
   "cell_type": "code",
   "execution_count": null,
   "metadata": {},
   "outputs": [],
   "source": [
    "fig, (ax1, ax2) = plt.subplots(2, sharex=True, figsize=(20,16))\n",
    "mpf.candlestick_ochl(ax1, mat_wdyx, width=0.6, colorup = 'g', colordown = 'r')\n",
    "ax1.set_title('wandayuanxian')\n",
    "ax1.set_ylabel('Price')\n",
    "ax1.grid(True)\n",
    "ax1.xaxis_date()\n",
    "plt.bar(mat_wdyx[:,0]-0.25, mat_wdyx[:,5], width= 0.5)\n",
    "ax2.set_ylabel('Volume')\n",
    "ax2.grid(True)"
   ]
  },
  {
   "cell_type": "code",
   "execution_count": null,
   "metadata": {},
   "outputs": [],
   "source": []
  },
  {
   "cell_type": "code",
   "execution_count": null,
   "metadata": {},
   "outputs": [],
   "source": []
  }
 ],
 "metadata": {
  "kernelspec": {
   "display_name": "Python 3",
   "language": "python",
   "name": "python3"
  },
  "language_info": {
   "codemirror_mode": {
    "name": "ipython",
    "version": 3
   },
   "file_extension": ".py",
   "mimetype": "text/x-python",
   "name": "python",
   "nbconvert_exporter": "python",
   "pygments_lexer": "ipython3",
   "version": "3.7.1"
  }
 },
 "nbformat": 4,
 "nbformat_minor": 2
}
