{
 "cells": [
  {
   "cell_type": "code",
   "execution_count": null,
   "metadata": {},
   "outputs": [],
   "source": [
    "# -*- coding:utf-8 -*-\n",
    "import matplotlib as mpl\n",
    "import tushare as ts\n",
    "import matplotlib.pyplot as plt\n",
    "import matplotlib.finance as mpf\n",
    "%matplotlib inline"
   ]
  },
  {
   "cell_type": "code",
   "execution_count": null,
   "metadata": {},
   "outputs": [],
   "source": [
    "start_date = '2017-07-01'\n",
    "end_date = '2017-11-01'\n",
    "stock_selected = '000050'\n",
    "data = ts.get_k_data(stock_selected,start_date,end_date)"
   ]
  },
  {
   "cell_type": "code",
   "execution_count": null,
   "metadata": {
    "collapsed": true
   },
   "outputs": [],
   "source": [
    "# 导入两个涉及的库\n",
    "from matplotlib.pylab import date2num\n",
    "import datetime\n",
    "import numpy as np\n",
    "import pandas as pd"
   ]
  },
  {
   "cell_type": "code",
   "execution_count": null,
   "metadata": {},
   "outputs": [],
   "source": [
    "data[data['volume']==0]=np.nan\n",
    "data=data.dropna()\n",
    "data.sort_values(by='date',ascending=True,inplace=True)"
   ]
  },
  {
   "cell_type": "code",
   "execution_count": null,
   "metadata": {},
   "outputs": [],
   "source": [
    "data.date=pd.to_datetime(data.date)\n",
    "#ransfer date to numbers\n",
    "data.date=data.date.apply(lambda x:date2num(x))"
   ]
  },
  {
   "cell_type": "code",
   "execution_count": null,
   "metadata": {
    "collapsed": true
   },
   "outputs": [],
   "source": [
    "#re-org the data as requried\n",
    "data=data[['date','open','close','high','low','volume']]"
   ]
  },
  {
   "cell_type": "code",
   "execution_count": null,
   "metadata": {
    "collapsed": true
   },
   "outputs": [],
   "source": [
    "#change data to matrix\n",
    "data_mat=data.as_matrix()"
   ]
  },
  {
   "cell_type": "code",
   "execution_count": null,
   "metadata": {},
   "outputs": [],
   "source": [
    "data_mat[:,5]\n",
    "#need learn how to operate matrix data here"
   ]
  },
  {
   "cell_type": "code",
   "execution_count": null,
   "metadata": {},
   "outputs": [],
   "source": [
    "fig,ax=plt.subplots(figsize=(1200/72,240/72))\n",
    "fig.subplots_adjust(bottom=0.5)\n",
    "mpf.candlestick_ochl(ax,data_mat,colordown='r', colorup='b',width=0.3,alpha=1)\n",
    "ax.grid(True)\n",
    "ax.xaxis_date()\n",
    "plt.show()"
   ]
  },
  {
   "cell_type": "code",
   "execution_count": null,
   "metadata": {},
   "outputs": [],
   "source": [
    "fig,(ax1,ax2)=plt.subplots(2,sharex=True,figsize=(1200/72,480/72))\n",
    "mpf.candlestick_ochl(ax1,data_mat,colordown='g', colorup='r',width=0.3,alpha=1)\n",
    "ax1.grid(True)\n",
    "ax1.xaxis_date()\n",
    "\n",
    "plt.bar(data_mat[:,0],data_mat[:,5],width=0.5)\n",
    "ax2.set_ylabel('Volume')\n",
    "ax2.grid(True)\n",
    "\n",
    "plt.show()"
   ]
  },
  {
   "cell_type": "code",
   "execution_count": 48,
   "metadata": {},
   "outputs": [
    {
     "data": {
      "text/plain": [
       "array([ 736513.,  736514.,  736515.,  736516.,  736517.,  736520.,\n",
       "        736521.,  736522.,  736523.,  736524.,  736527.,  736528.,\n",
       "        736529.,  736530.,  736531.,  736534.,  736535.,  736536.,\n",
       "        736537.,  736538.,  736541.,  736542.,  736543.,  736544.,\n",
       "        736545.,  736548.,  736549.,  736550.,  736551.,  736552.,\n",
       "        736555.,  736556.,  736557.,  736558.,  736559.,  736562.,\n",
       "        736563.,  736564.,  736565.,  736566.,  736569.,  736570.,\n",
       "        736571.,  736572.,  736573.,  736576.,  736577.,  736578.,\n",
       "        736579.,  736580.,  736583.,  736584.,  736585.,  736586.,\n",
       "        736587.,  736590.,  736591.,  736592.,  736593.,  736594.,\n",
       "        736597.,  736598.,  736599.,  736600.,  736601.,  736611.,\n",
       "        736612.,  736613.,  736614.,  736615.,  736618.,  736619.,\n",
       "        736620.,  736621.,  736622.,  736625.,  736626.,  736627.,\n",
       "        736628.,  736629.,  736632.,  736633.,  736634.])"
      ]
     },
     "execution_count": 48,
     "metadata": {},
     "output_type": "execute_result"
    }
   ],
   "source": [
    "data.date.values"
   ]
  },
  {
   "cell_type": "code",
   "execution_count": null,
   "metadata": {},
   "outputs": [],
   "source": []
  },
  {
   "cell_type": "code",
   "execution_count": null,
   "metadata": {
    "collapsed": true
   },
   "outputs": [],
   "source": []
  },
  {
   "cell_type": "code",
   "execution_count": null,
   "metadata": {
    "collapsed": true
   },
   "outputs": [],
   "source": []
  }
 ],
 "metadata": {
  "kernelspec": {
   "display_name": "Python 3",
   "language": "python",
   "name": "python3"
  },
  "language_info": {
   "codemirror_mode": {
    "name": "ipython",
    "version": 3
   },
   "file_extension": ".py",
   "mimetype": "text/x-python",
   "name": "python",
   "nbconvert_exporter": "python",
   "pygments_lexer": "ipython3",
   "version": "3.5.3"
  }
 },
 "nbformat": 4,
 "nbformat_minor": 2
}
