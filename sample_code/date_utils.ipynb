{
 "cells": [
  {
   "cell_type": "code",
   "execution_count": 1,
   "metadata": {},
   "outputs": [],
   "source": [
    "import tushare as ts\n",
    "import pandas as pd\n",
    "import numpy as np\n",
    "\n",
    "from xpinyin import Pinyin"
   ]
  },
  {
   "cell_type": "code",
   "execution_count": 2,
   "metadata": {},
   "outputs": [],
   "source": [
    "df=ts.get_stock_basics()\n",
    "df.head(5)\n",
    "att=df.columns.values.tolist()\n",
    "#clommun_show = ['name', 'pe', 'outstanding', 'totals', 'totalAssets', 'liquidAssets', 'fixedAssets',\n",
    "#'esp', 'bvps', 'pb',  'perundp', 'rev', 'profit', 'gpr', 'npr', 'holders']\n",
    "\n",
    "pin=Pinyin()\n",
    "df['UP'] = None\n",
    "for index, row in df.iterrows():\n",
    "    name_str = df.name[index]\n",
    "    #print(name_str)\n",
    "    up_letter = pin.get_initials(name_str,u'')\n",
    "    #print(up_letter)\n",
    "    df.at[index,['UP']]=up_letter\n",
    "#df[df['UP']=='HTGD']\n",
    "df['code']=df.index\n",
    "#print(df.UP)"
   ]
  },
  {
   "cell_type": "markdown",
   "metadata": {},
   "source": [
    "code,代码\n",
    "name,名称\n",
    "industry,所属行业\n",
    "area,地区\n",
    "pe,市盈率\n",
    "outstanding,流通股本(亿)\n",
    "totals,总股本(亿)\n",
    "totalAssets,总资产(万)\n",
    "liquidAssets,流动资产\n",
    "fixedAssets,固定资产\n",
    "reserved,公积金\n",
    "reservedPerShare,每股公积金\n",
    "esp,每股收益\n",
    "bvps,每股净资\n",
    "pb,市净率\n",
    "timeToMarket,上市日期\n",
    "undp,未分利润\n",
    "perundp, 每股未分配\n",
    "rev,收入同比(%)\n",
    "profit,利润同比(%)\n",
    "gpr,毛利率(%)\n",
    "npr,净利润率(%)\n",
    "holders,股东人数\n",
    "['name', 'pe', 'outstanding', 'totals', 'totalAssets', 'liquidAssets', 'fixedAssets', 'esp', 'bvps', 'pb',  'perundp', 'rev', 'profit', 'gpr', 'npr', 'holders']"
   ]
  },
  {
   "cell_type": "code",
   "execution_count": 3,
   "metadata": {},
   "outputs": [
    {
     "data": {
      "text/html": [
       "<div>\n",
       "<style scoped>\n",
       "    .dataframe tbody tr th:only-of-type {\n",
       "        vertical-align: middle;\n",
       "    }\n",
       "\n",
       "    .dataframe tbody tr th {\n",
       "        vertical-align: top;\n",
       "    }\n",
       "\n",
       "    .dataframe thead th {\n",
       "        text-align: right;\n",
       "    }\n",
       "</style>\n",
       "<table border=\"1\" class=\"dataframe\">\n",
       "  <thead>\n",
       "    <tr style=\"text-align: right;\">\n",
       "      <th></th>\n",
       "      <th>name</th>\n",
       "      <th>open</th>\n",
       "      <th>pre_close</th>\n",
       "      <th>price</th>\n",
       "      <th>high</th>\n",
       "      <th>low</th>\n",
       "      <th>volume</th>\n",
       "      <th>amount</th>\n",
       "      <th>time</th>\n",
       "      <th>code</th>\n",
       "    </tr>\n",
       "  </thead>\n",
       "  <tbody>\n",
       "    <tr>\n",
       "      <th>0</th>\n",
       "      <td>亨通光电</td>\n",
       "      <td>21.500</td>\n",
       "      <td>22.000</td>\n",
       "      <td>21.960</td>\n",
       "      <td>23.110</td>\n",
       "      <td>21.200</td>\n",
       "      <td>98727052</td>\n",
       "      <td>2198642229.000</td>\n",
       "      <td>15:00:00</td>\n",
       "      <td>600487</td>\n",
       "    </tr>\n",
       "    <tr>\n",
       "      <th>1</th>\n",
       "      <td>欧菲科技</td>\n",
       "      <td>14.000</td>\n",
       "      <td>14.740</td>\n",
       "      <td>14.110</td>\n",
       "      <td>14.940</td>\n",
       "      <td>13.800</td>\n",
       "      <td>170908883</td>\n",
       "      <td>2454933765.380</td>\n",
       "      <td>15:00:03</td>\n",
       "      <td>002456</td>\n",
       "    </tr>\n",
       "    <tr>\n",
       "      <th>2</th>\n",
       "      <td>长电科技</td>\n",
       "      <td>14.300</td>\n",
       "      <td>14.700</td>\n",
       "      <td>15.900</td>\n",
       "      <td>16.170</td>\n",
       "      <td>14.020</td>\n",
       "      <td>165795445</td>\n",
       "      <td>2632525261.000</td>\n",
       "      <td>15:00:00</td>\n",
       "      <td>600584</td>\n",
       "    </tr>\n",
       "    <tr>\n",
       "      <th>3</th>\n",
       "      <td>中际旭创</td>\n",
       "      <td>56.990</td>\n",
       "      <td>59.370</td>\n",
       "      <td>58.400</td>\n",
       "      <td>64.390</td>\n",
       "      <td>56.000</td>\n",
       "      <td>9156938</td>\n",
       "      <td>549740196.910</td>\n",
       "      <td>15:00:03</td>\n",
       "      <td>300308</td>\n",
       "    </tr>\n",
       "    <tr>\n",
       "      <th>4</th>\n",
       "      <td>光迅科技</td>\n",
       "      <td>31.000</td>\n",
       "      <td>31.620</td>\n",
       "      <td>32.580</td>\n",
       "      <td>34.500</td>\n",
       "      <td>30.680</td>\n",
       "      <td>47640638</td>\n",
       "      <td>1578763475.520</td>\n",
       "      <td>15:00:03</td>\n",
       "      <td>002281</td>\n",
       "    </tr>\n",
       "    <tr>\n",
       "      <th>5</th>\n",
       "      <td>烽火通信</td>\n",
       "      <td>31.700</td>\n",
       "      <td>32.370</td>\n",
       "      <td>32.290</td>\n",
       "      <td>33.460</td>\n",
       "      <td>31.250</td>\n",
       "      <td>50910497</td>\n",
       "      <td>1661789943.000</td>\n",
       "      <td>15:00:00</td>\n",
       "      <td>600498</td>\n",
       "    </tr>\n",
       "    <tr>\n",
       "      <th>6</th>\n",
       "      <td>大族激光</td>\n",
       "      <td>40.600</td>\n",
       "      <td>42.440</td>\n",
       "      <td>42.550</td>\n",
       "      <td>45.100</td>\n",
       "      <td>39.800</td>\n",
       "      <td>56482328</td>\n",
       "      <td>2428853657.020</td>\n",
       "      <td>15:00:03</td>\n",
       "      <td>002008</td>\n",
       "    </tr>\n",
       "  </tbody>\n",
       "</table>\n",
       "</div>"
      ],
      "text/plain": [
       "   name    open pre_close   price    high     low     volume          amount  \\\n",
       "0  亨通光电  21.500    22.000  21.960  23.110  21.200   98727052  2198642229.000   \n",
       "1  欧菲科技  14.000    14.740  14.110  14.940  13.800  170908883  2454933765.380   \n",
       "2  长电科技  14.300    14.700  15.900  16.170  14.020  165795445  2632525261.000   \n",
       "3  中际旭创  56.990    59.370  58.400  64.390  56.000    9156938   549740196.910   \n",
       "4  光迅科技  31.000    31.620  32.580  34.500  30.680   47640638  1578763475.520   \n",
       "5  烽火通信  31.700    32.370  32.290  33.460  31.250   50910497  1661789943.000   \n",
       "6  大族激光  40.600    42.440  42.550  45.100  39.800   56482328  2428853657.020   \n",
       "\n",
       "       time    code  \n",
       "0  15:00:00  600487  \n",
       "1  15:00:03  002456  \n",
       "2  15:00:00  600584  \n",
       "3  15:00:03  300308  \n",
       "4  15:00:03  002281  \n",
       "5  15:00:00  600498  \n",
       "6  15:00:03  002008  "
      ]
     },
     "execution_count": 3,
     "metadata": {},
     "output_type": "execute_result"
    }
   ],
   "source": [
    "col_show = ['name', 'open', 'pre_close', 'price', 'high', 'low', 'volume', 'amount',  'time', 'code']\n",
    "initial_letter = ['HTGD','OFKJ','CDKJ','ZJXC','GXKJ','FHTX','DZJG']\n",
    "code =[]\n",
    "for letter in initial_letter:\n",
    "    code.append(df[df['UP']==letter].code[0])\n",
    "    #print(code)\n",
    "if code != '': #not empty != ''\n",
    "    df_price = ts.get_realtime_quotes(code)\n",
    "    #print(df_price)\n",
    "    #df_price.columns.values.tolist()\n",
    "df_price[col_show]"
   ]
  },
  {
   "cell_type": "markdown",
   "metadata": {},
   "source": [
    "## TO-DO\n",
    "#Add the map from initial to code\n",
    "#build up a dataframe with fundamental and indicotors\n",
    "#For Leadings, need cache more data for the begining data"
   ]
  },
  {
   "cell_type": "code",
   "execution_count": 4,
   "metadata": {},
   "outputs": [],
   "source": [
    "from matplotlib.mlab import csv2rec"
   ]
  },
  {
   "cell_type": "code",
   "execution_count": 5,
   "metadata": {},
   "outputs": [
    {
     "name": "stderr",
     "output_type": "stream",
     "text": [
      "/home/yunfeiz/anaconda3/lib/python3.7/site-packages/ipykernel_launcher.py:3: MatplotlibDeprecationWarning: The csv2rec function was deprecated in Matplotlib 2.2 and will be removed in 3.1.\n",
      "  This is separate from the ipykernel package so we can avoid doing imports until\n"
     ]
    }
   ],
   "source": [
    "df=ts.get_k_data(\"002456\",start='2018-01-05',end='2018-01-09')\n",
    "df.to_csv(\"temp.csv\")\n",
    "r=csv2rec(\"temp.csv\")\n",
    "#r.date"
   ]
  },
  {
   "cell_type": "code",
   "execution_count": 6,
   "metadata": {},
   "outputs": [
    {
     "name": "stdout",
     "output_type": "stream",
     "text": [
      "当前的日期和时间是 2019-03-10 11:13:55.914648\n",
      "ISO格式的日期和时间是 2019-03-10T11:13:55.914648\n",
      "当前的年份是 2019\n",
      "当前的月份是 3\n",
      "当前的日期是  10\n",
      "dd/mm/yyyy 格式是  10/3/2019\n",
      "当前小时是 11\n",
      "当前分钟是 13\n",
      "当前秒是  55\n"
     ]
    }
   ],
   "source": [
    "import time, datetime\n",
    "\n",
    "#str = df[df.code == '600487'][clommun_show].name.values\n",
    "#print(str)\n",
    "today=datetime.date.today()\n",
    "yesterday = today - datetime.timedelta(1)\n",
    "#print(today, yesterday)\n",
    "i = datetime.datetime.now()\n",
    "print (\"当前的日期和时间是 %s\" % i)\n",
    "print (\"ISO格式的日期和时间是 %s\" % i.isoformat() )\n",
    "print (\"当前的年份是 %s\" %i.year)\n",
    "print (\"当前的月份是 %s\" %i.month)\n",
    "print (\"当前的日期是  %s\" %i.day)\n",
    "print (\"dd/mm/yyyy 格式是  %s/%s/%s\" % (i.day, i.month, i.year) )\n",
    "print (\"当前小时是 %s\" %i.hour)\n",
    "print (\"当前分钟是 %s\" %i.minute)\n",
    "print (\"当前秒是  %s\" %i.second)"
   ]
  },
  {
   "cell_type": "code",
   "execution_count": 7,
   "metadata": {},
   "outputs": [
    {
     "name": "stdout",
     "output_type": "stream",
     "text": [
      "本地时间为 : time.struct_time(tm_year=2019, tm_mon=3, tm_mday=10, tm_hour=11, tm_min=13, tm_sec=55, tm_wday=6, tm_yday=69, tm_isdst=0)\n",
      "2019-03-10 11:13:55\n",
      "Sun Mar 10 11:13:55 2019\n"
     ]
    }
   ],
   "source": [
    "import time\n",
    " \n",
    "localtime = time.localtime(time.time())\n",
    "print(\"本地时间为 :\", localtime)\n",
    "\n",
    "# 格式化成2016-03-20 11:45:39形式\n",
    "print(time.strftime(\"%Y-%m-%d %H:%M:%S\", time.localtime()))\n",
    " \n",
    "# 格式化成Sat Mar 28 22:24:24 2016形式\n",
    "print(time.strftime(\"%a %b %d %H:%M:%S %Y\", time.localtime()))"
   ]
  },
  {
   "cell_type": "code",
   "execution_count": 8,
   "metadata": {},
   "outputs": [],
   "source": [
    "#!/usr/bin/python\n",
    "# -*- coding: UTF-8 -*-\n",
    " \n",
    "import calendar \n",
    "cal = calendar.month(2019, 3)\n",
    "#print (cal)"
   ]
  }
 ],
 "metadata": {
  "kernelspec": {
   "display_name": "Python 3",
   "language": "python",
   "name": "python3"
  },
  "language_info": {
   "codemirror_mode": {
    "name": "ipython",
    "version": 3
   },
   "file_extension": ".py",
   "mimetype": "text/x-python",
   "name": "python",
   "nbconvert_exporter": "python",
   "pygments_lexer": "ipython3",
   "version": "3.7.1"
  }
 },
 "nbformat": 4,
 "nbformat_minor": 2
}
