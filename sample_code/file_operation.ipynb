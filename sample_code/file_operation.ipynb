{
 "cells": [
  {
   "cell_type": "code",
   "execution_count": null,
   "metadata": {
    "collapsed": false
   },
   "outputs": [],
   "source": [
    "in_file = open('in.txt')\n",
    "out_file = open(\"out.txt\", 'w')\n",
    "while True:\n",
    "    lines = in_file.readline() # 整行读取数据\n",
    "    if not lines:\n",
    "        break\n",
    "    #print (lines)\n",
    "    if lines[0] == '0':\n",
    "        #print(lines[:6]+\".XSHE\")\n",
    "        out_file.write(lines[:6]+\".XSHE\"+'\\n')\n",
    "    if lines[0] == '3':\n",
    "        #print(lines[:6]+\".XSHE\")\n",
    "        out_file.write(lines[:6]+\".XSHE\"+'\\n')\n",
    "    if lines[0] == '6':\n",
    "        #print(lines[:6]+\".XSHG\")\n",
    "        out_file.write(lines[:6]+\".XSHG\"+'\\n')\n",
    "in_file.close()\n",
    "out_file.close()\n",
    "\n"
   ]
  }
 ],
 "metadata": {
  "anaconda-cloud": {},
  "kernelspec": {
   "display_name": "Python [conda env:python35]",
   "language": "python",
   "name": "conda-env-python35-py"
  },
  "language_info": {
   "codemirror_mode": {
    "name": "ipython",
    "version": 3
   },
   "file_extension": ".py",
   "mimetype": "text/x-python",
   "name": "python",
   "nbconvert_exporter": "python",
   "pygments_lexer": "ipython3",
   "version": "3.5.3"
  }
 },
 "nbformat": 4,
 "nbformat_minor": 1
}
