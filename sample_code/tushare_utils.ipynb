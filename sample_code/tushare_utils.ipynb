{
 "cells": [
  {
   "cell_type": "code",
   "execution_count": 2,
   "metadata": {},
   "outputs": [
    {
     "name": "stdout",
     "output_type": "stream",
     "text": [
      "['name', 'industry', 'area', 'pe', 'outstanding', 'totals', 'totalAssets', 'liquidAssets', 'fixedAssets', 'reserved', 'reservedPerShare', 'esp', 'bvps', 'pb', 'timeToMarket', 'undp', 'perundp', 'rev', 'profit', 'gpr', 'npr', 'holders']\n"
     ]
    }
   ],
   "source": [
    "import tushare as ts\n",
    "df=ts.get_stock_basics()\n",
    "df.head(5)\n",
    "att=df.columns.values.tolist()\n",
    "print(att)"
   ]
  },
  {
   "cell_type": "markdown",
   "metadata": {},
   "source": [
    "code,代码\n",
    "name,名称\n",
    "industry,所属行业\n",
    "area,地区\n",
    "pe,市盈率\n",
    "outstanding,流通股本(亿)\n",
    "totals,总股本(亿)\n",
    "totalAssets,总资产(万)\n",
    "liquidAssets,流动资产\n",
    "fixedAssets,固定资产\n",
    "reserved,公积金\n",
    "reservedPerShare,每股公积金\n",
    "esp,每股收益\n",
    "bvps,每股净资\n",
    "pb,市净率\n",
    "timeToMarket,上市日期\n",
    "undp,未分利润\n",
    "perundp, 每股未分配\n",
    "rev,收入同比(%)\n",
    "profit,利润同比(%)\n",
    "gpr,毛利率(%)\n",
    "npr,净利润率(%)\n",
    "holders,股东人数\n",
    "['name', 'pe', 'outstanding', 'totals', 'totalAssets', 'liquidAssets', 'fixedAssets', 'esp', 'bvps', 'pb',  'perundp', 'rev', 'profit', 'gpr', 'npr', 'holders']"
   ]
  },
  {
   "cell_type": "code",
   "execution_count": 4,
   "metadata": {},
   "outputs": [],
   "source": [
    "from xpinyin import Pinyin\n",
    "pin=Pinyin()"
   ]
  },
  {
   "cell_type": "code",
   "execution_count": 6,
   "metadata": {},
   "outputs": [],
   "source": [
    "import pandas as pd\n",
    "import numpy as np"
   ]
  },
  {
   "cell_type": "code",
   "execution_count": 19,
   "metadata": {},
   "outputs": [
    {
     "data": {
      "text/html": [
       "<div>\n",
       "<style scoped>\n",
       "    .dataframe tbody tr th:only-of-type {\n",
       "        vertical-align: middle;\n",
       "    }\n",
       "\n",
       "    .dataframe tbody tr th {\n",
       "        vertical-align: top;\n",
       "    }\n",
       "\n",
       "    .dataframe thead th {\n",
       "        text-align: right;\n",
       "    }\n",
       "</style>\n",
       "<table border=\"1\" class=\"dataframe\">\n",
       "  <thead>\n",
       "    <tr style=\"text-align: right;\">\n",
       "      <th></th>\n",
       "      <th>name</th>\n",
       "      <th>industry</th>\n",
       "      <th>area</th>\n",
       "      <th>pe</th>\n",
       "      <th>outstanding</th>\n",
       "      <th>totals</th>\n",
       "      <th>totalAssets</th>\n",
       "      <th>liquidAssets</th>\n",
       "      <th>fixedAssets</th>\n",
       "      <th>reserved</th>\n",
       "      <th>...</th>\n",
       "      <th>pb</th>\n",
       "      <th>timeToMarket</th>\n",
       "      <th>undp</th>\n",
       "      <th>perundp</th>\n",
       "      <th>rev</th>\n",
       "      <th>profit</th>\n",
       "      <th>gpr</th>\n",
       "      <th>npr</th>\n",
       "      <th>holders</th>\n",
       "      <th>UP</th>\n",
       "    </tr>\n",
       "    <tr>\n",
       "      <th>code</th>\n",
       "      <th></th>\n",
       "      <th></th>\n",
       "      <th></th>\n",
       "      <th></th>\n",
       "      <th></th>\n",
       "      <th></th>\n",
       "      <th></th>\n",
       "      <th></th>\n",
       "      <th></th>\n",
       "      <th></th>\n",
       "      <th></th>\n",
       "      <th></th>\n",
       "      <th></th>\n",
       "      <th></th>\n",
       "      <th></th>\n",
       "      <th></th>\n",
       "      <th></th>\n",
       "      <th></th>\n",
       "      <th></th>\n",
       "      <th></th>\n",
       "      <th></th>\n",
       "    </tr>\n",
       "  </thead>\n",
       "  <tbody>\n",
       "    <tr>\n",
       "      <th>600487</th>\n",
       "      <td>亨通光电</td>\n",
       "      <td>通信设备</td>\n",
       "      <td>江苏</td>\n",
       "      <td>14.91</td>\n",
       "      <td>18.6</td>\n",
       "      <td>19.04</td>\n",
       "      <td>3657833.5</td>\n",
       "      <td>2502673.75</td>\n",
       "      <td>462511.59</td>\n",
       "      <td>320274.16</td>\n",
       "      <td>...</td>\n",
       "      <td>3.49</td>\n",
       "      <td>20030822</td>\n",
       "      <td>667799.5</td>\n",
       "      <td>3.51</td>\n",
       "      <td>26.72</td>\n",
       "      <td>26.1</td>\n",
       "      <td>21.1</td>\n",
       "      <td>8.74</td>\n",
       "      <td>131950.0</td>\n",
       "      <td>HTGD</td>\n",
       "    </tr>\n",
       "  </tbody>\n",
       "</table>\n",
       "<p>1 rows × 23 columns</p>\n",
       "</div>"
      ],
      "text/plain": [
       "        name industry area     pe  outstanding  totals  totalAssets  \\\n",
       "code                                                                  \n",
       "600487  亨通光电     通信设备   江苏  14.91         18.6   19.04    3657833.5   \n",
       "\n",
       "        liquidAssets  fixedAssets   reserved  ...     pb  timeToMarket  \\\n",
       "code                                          ...                        \n",
       "600487    2502673.75    462511.59  320274.16  ...   3.49      20030822   \n",
       "\n",
       "            undp  perundp    rev  profit   gpr   npr   holders    UP  \n",
       "code                                                                  \n",
       "600487  667799.5     3.51  26.72    26.1  21.1  8.74  131950.0  HTGD  \n",
       "\n",
       "[1 rows x 23 columns]"
      ]
     },
     "execution_count": 19,
     "metadata": {},
     "output_type": "execute_result"
    }
   ],
   "source": [
    "df['UP'] = None\n",
    "for index, row in df.iterrows():\n",
    "    name_str = df.name[index]\n",
    "    #print(name_str)\n",
    "    up_letter = pin.get_initials(name_str,u'')\n",
    "    #print(up_letter)\n",
    "    df.at[index,['UP']]=up_letter\n",
    "df[df['UP']=='HTGD']"
   ]
  },
  {
   "cell_type": "code",
   "execution_count": 34,
   "metadata": {},
   "outputs": [],
   "source": [
    "clommun_show = ['name', 'pe', 'outstanding', 'totals', 'totalAssets', 'liquidAssets', 'fixedAssets', 'esp', 'bvps', 'pb',  'perundp', 'rev', 'profit', 'gpr', 'npr', 'holders']"
   ]
  },
  {
   "cell_type": "code",
   "execution_count": 35,
   "metadata": {},
   "outputs": [],
   "source": [
    "df['code']=df.index"
   ]
  },
  {
   "cell_type": "code",
   "execution_count": 36,
   "metadata": {},
   "outputs": [
    {
     "data": {
      "text/html": [
       "<div>\n",
       "<style scoped>\n",
       "    .dataframe tbody tr th:only-of-type {\n",
       "        vertical-align: middle;\n",
       "    }\n",
       "\n",
       "    .dataframe tbody tr th {\n",
       "        vertical-align: top;\n",
       "    }\n",
       "\n",
       "    .dataframe thead th {\n",
       "        text-align: right;\n",
       "    }\n",
       "</style>\n",
       "<table border=\"1\" class=\"dataframe\">\n",
       "  <thead>\n",
       "    <tr style=\"text-align: right;\">\n",
       "      <th></th>\n",
       "      <th>name</th>\n",
       "      <th>pe</th>\n",
       "      <th>outstanding</th>\n",
       "      <th>totals</th>\n",
       "      <th>totalAssets</th>\n",
       "      <th>liquidAssets</th>\n",
       "      <th>fixedAssets</th>\n",
       "      <th>esp</th>\n",
       "      <th>bvps</th>\n",
       "      <th>pb</th>\n",
       "      <th>perundp</th>\n",
       "      <th>rev</th>\n",
       "      <th>profit</th>\n",
       "      <th>gpr</th>\n",
       "      <th>npr</th>\n",
       "      <th>holders</th>\n",
       "    </tr>\n",
       "    <tr>\n",
       "      <th>code</th>\n",
       "      <th></th>\n",
       "      <th></th>\n",
       "      <th></th>\n",
       "      <th></th>\n",
       "      <th></th>\n",
       "      <th></th>\n",
       "      <th></th>\n",
       "      <th></th>\n",
       "      <th></th>\n",
       "      <th></th>\n",
       "      <th></th>\n",
       "      <th></th>\n",
       "      <th></th>\n",
       "      <th></th>\n",
       "      <th></th>\n",
       "      <th></th>\n",
       "    </tr>\n",
       "  </thead>\n",
       "  <tbody>\n",
       "    <tr>\n",
       "      <th>002456</th>\n",
       "      <td>欧菲科技</td>\n",
       "      <td>21.79</td>\n",
       "      <td>26.68</td>\n",
       "      <td>27.13</td>\n",
       "      <td>3995544.75</td>\n",
       "      <td>2267572.5</td>\n",
       "      <td>1036326.5</td>\n",
       "      <td>0.51</td>\n",
       "      <td>4.05</td>\n",
       "      <td>3.64</td>\n",
       "      <td>1.68</td>\n",
       "      <td>27.35</td>\n",
       "      <td>34.69</td>\n",
       "      <td>15.0</td>\n",
       "      <td>4.42</td>\n",
       "      <td>144860.0</td>\n",
       "    </tr>\n",
       "  </tbody>\n",
       "</table>\n",
       "</div>"
      ],
      "text/plain": [
       "        name     pe  outstanding  totals  totalAssets  liquidAssets  \\\n",
       "code                                                                  \n",
       "002456  欧菲科技  21.79        26.68   27.13   3995544.75     2267572.5   \n",
       "\n",
       "        fixedAssets   esp  bvps    pb  perundp    rev  profit   gpr   npr  \\\n",
       "code                                                                        \n",
       "002456    1036326.5  0.51  4.05  3.64     1.68  27.35   34.69  15.0  4.42   \n",
       "\n",
       "         holders  \n",
       "code              \n",
       "002456  144860.0  "
      ]
     },
     "execution_count": 36,
     "metadata": {},
     "output_type": "execute_result"
    }
   ],
   "source": [
    "df[df.code == '002456'][clommun_show]"
   ]
  },
  {
   "cell_type": "code",
   "execution_count": 41,
   "metadata": {},
   "outputs": [
    {
     "name": "stdout",
     "output_type": "stream",
     "text": [
      "['亨通光电']\n"
     ]
    }
   ],
   "source": [
    "str = df[df.code == '600487'][clommun_show].name.values\n",
    "print(str)"
   ]
  }
 ],
 "metadata": {
  "kernelspec": {
   "display_name": "Python 3",
   "language": "python",
   "name": "python3"
  },
  "language_info": {
   "codemirror_mode": {
    "name": "ipython",
    "version": 3
   },
   "file_extension": ".py",
   "mimetype": "text/x-python",
   "name": "python",
   "nbconvert_exporter": "python",
   "pygments_lexer": "ipython3",
   "version": "3.7.1"
  }
 },
 "nbformat": 4,
 "nbformat_minor": 2
}
